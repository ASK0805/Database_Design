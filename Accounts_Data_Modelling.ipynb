{
 "cells": [
  {
   "cell_type": "markdown",
   "id": "2134d0aa-1bc1-476c-b264-b347ba5a7aad",
   "metadata": {},
   "source": [
    "## First we clean our dataset and create our dataset according our requirement :"
   ]
  },
  {
   "cell_type": "code",
   "execution_count": 1,
   "id": "bc472302-e681-4079-9f60-24b881064abc",
   "metadata": {},
   "outputs": [],
   "source": [
    "# required libraries\n",
    "import psycopg2\n",
    "import pandas as pd"
   ]
  },
  {
   "cell_type": "code",
   "execution_count": 2,
   "id": "e82a183d-cb35-41d6-8875-b83728aa5deb",
   "metadata": {},
   "outputs": [],
   "source": [
    "df_data_country = pd.read_csv(\"Wealth-AccountsCountry.csv\")"
   ]
  },
  {
   "cell_type": "code",
   "execution_count": 3,
   "id": "5d127f11-f30d-4735-b9eb-6b4b82e7aa50",
   "metadata": {},
   "outputs": [
    {
     "data": {
      "text/plain": [
       "Index(['Code', 'Long Name', 'Income Group', 'Region', 'Lending category',\n",
       "       'Other groups', 'Currency Unit', 'Latest population census',\n",
       "       'Latest household survey', 'Special Notes',\n",
       "       'National accounts base year', 'National accounts reference year',\n",
       "       'System of National Accounts', 'SNA price valuation',\n",
       "       'Alternative conversion factor', 'PPP survey years',\n",
       "       'Balance of Payments Manual in use', 'External debt Reporting status',\n",
       "       'System of trade', 'Government Accounting concept',\n",
       "       'IMF data dissemination standard',\n",
       "       'Source of most recent Income and expenditure data',\n",
       "       'Vital registration complete', 'Latest agricultural census',\n",
       "       'Latest industrial data', 'Latest trade data',\n",
       "       'Latest water withdrawal data', '2-alpha code', 'WB-2 code',\n",
       "       'Table Name', 'Short Name'],\n",
       "      dtype='object')"
      ]
     },
     "execution_count": 3,
     "metadata": {},
     "output_type": "execute_result"
    }
   ],
   "source": [
    "df_data_country.columns"
   ]
  },
  {
   "cell_type": "code",
   "execution_count": 4,
   "id": "5aceefbc-0ccc-4394-b15c-0a70da17dfaa",
   "metadata": {},
   "outputs": [],
   "source": [
    "Account_country = df_data_country[[\"Code\", \"Long Name\", \"Income Group\", \"Region\", \"Currency Unit\"]]"
   ]
  },
  {
   "cell_type": "code",
   "execution_count": 5,
   "id": "d5612595-171f-40e7-9ffa-1b5c9a88be60",
   "metadata": {},
   "outputs": [],
   "source": [
    "Account_country = Account_country.rename(columns = {\"Code\":\"Country Code\"})"
   ]
  },
  {
   "cell_type": "code",
   "execution_count": 6,
   "id": "09ce447f-24e4-47e2-bd0e-0c5a0595c539",
   "metadata": {},
   "outputs": [],
   "source": [
    "Account_country = Account_country.drop_duplicates(subset = [\"Country Code\"])"
   ]
  },
  {
   "cell_type": "code",
   "execution_count": 8,
   "id": "d2f06cca-19a0-4195-89e9-3d366ed650ba",
   "metadata": {},
   "outputs": [
    {
     "data": {
      "text/html": [
       "<div>\n",
       "<style scoped>\n",
       "    .dataframe tbody tr th:only-of-type {\n",
       "        vertical-align: middle;\n",
       "    }\n",
       "\n",
       "    .dataframe tbody tr th {\n",
       "        vertical-align: top;\n",
       "    }\n",
       "\n",
       "    .dataframe thead th {\n",
       "        text-align: right;\n",
       "    }\n",
       "</style>\n",
       "<table border=\"1\" class=\"dataframe\">\n",
       "  <thead>\n",
       "    <tr style=\"text-align: right;\">\n",
       "      <th></th>\n",
       "      <th>Country Code</th>\n",
       "      <th>Long Name</th>\n",
       "      <th>Income Group</th>\n",
       "      <th>Region</th>\n",
       "      <th>Currency Unit</th>\n",
       "    </tr>\n",
       "  </thead>\n",
       "  <tbody>\n",
       "    <tr>\n",
       "      <th>0</th>\n",
       "      <td>ALB</td>\n",
       "      <td>Republic of Albania</td>\n",
       "      <td>Upper middle income</td>\n",
       "      <td>Europe &amp; Central Asia</td>\n",
       "      <td>Albanian lek</td>\n",
       "    </tr>\n",
       "    <tr>\n",
       "      <th>1</th>\n",
       "      <td>ARG</td>\n",
       "      <td>Argentine Republic</td>\n",
       "      <td>Upper middle income</td>\n",
       "      <td>Latin America &amp; Caribbean</td>\n",
       "      <td>Argentine peso</td>\n",
       "    </tr>\n",
       "    <tr>\n",
       "      <th>2</th>\n",
       "      <td>ARM</td>\n",
       "      <td>Republic of Armenia</td>\n",
       "      <td>Upper middle income</td>\n",
       "      <td>Europe &amp; Central Asia</td>\n",
       "      <td>Armenian dram</td>\n",
       "    </tr>\n",
       "    <tr>\n",
       "      <th>3</th>\n",
       "      <td>AUS</td>\n",
       "      <td>Commonwealth of Australia</td>\n",
       "      <td>High income</td>\n",
       "      <td>East Asia &amp; Pacific</td>\n",
       "      <td>Australian dollar</td>\n",
       "    </tr>\n",
       "    <tr>\n",
       "      <th>4</th>\n",
       "      <td>AUT</td>\n",
       "      <td>Republic of Austria</td>\n",
       "      <td>High income</td>\n",
       "      <td>Europe &amp; Central Asia</td>\n",
       "      <td>Euro</td>\n",
       "    </tr>\n",
       "  </tbody>\n",
       "</table>\n",
       "</div>"
      ],
      "text/plain": [
       "  Country Code                  Long Name         Income Group  \\\n",
       "0          ALB        Republic of Albania  Upper middle income   \n",
       "1          ARG         Argentine Republic  Upper middle income   \n",
       "2          ARM        Republic of Armenia  Upper middle income   \n",
       "3          AUS  Commonwealth of Australia          High income   \n",
       "4          AUT        Republic of Austria          High income   \n",
       "\n",
       "                      Region      Currency Unit  \n",
       "0      Europe & Central Asia       Albanian lek  \n",
       "1  Latin America & Caribbean     Argentine peso  \n",
       "2      Europe & Central Asia      Armenian dram  \n",
       "3        East Asia & Pacific  Australian dollar  \n",
       "4      Europe & Central Asia               Euro  "
      ]
     },
     "execution_count": 8,
     "metadata": {},
     "output_type": "execute_result"
    }
   ],
   "source": [
    "Account_country.head()"
   ]
  },
  {
   "cell_type": "code",
   "execution_count": null,
   "id": "94246b1e-ac52-48bd-8f15-765cc10cb8a6",
   "metadata": {},
   "outputs": [],
   "source": []
  },
  {
   "cell_type": "code",
   "execution_count": 10,
   "id": "296f8248-d675-4ed8-80cf-73c460feb75c",
   "metadata": {},
   "outputs": [],
   "source": [
    "df_data = pd.read_csv(\"Wealth-AccountData.csv\")"
   ]
  },
  {
   "cell_type": "code",
   "execution_count": 11,
   "id": "be1e0d49-d90c-40f0-adb1-a6e2410c8308",
   "metadata": {},
   "outputs": [
    {
     "data": {
      "text/plain": [
       "Index(['Country Name', 'Country Code', 'Series Name', 'Series Code',\n",
       "       '1995 [YR1995]', '1996 [YR1996]', '1997 [YR1997]', '1998 [YR1998]',\n",
       "       '1999 [YR1999]', '2000 [YR2000]', '2001 [YR2001]', '2002 [YR2002]',\n",
       "       '2003 [YR2003]', '2004 [YR2004]', '2005 [YR2005]', '2006 [YR2006]',\n",
       "       '2007 [YR2007]', '2008 [YR2008]', '2009 [YR2009]', '2010 [YR2010]',\n",
       "       '2011 [YR2011]', '2012 [YR2012]', '2013 [YR2013]', '2014 [YR2014]',\n",
       "       '2015 [YR2015]', '2016 [YR2016]', '2017 [YR2017]', '2018 [YR2018]'],\n",
       "      dtype='object')"
      ]
     },
     "execution_count": 11,
     "metadata": {},
     "output_type": "execute_result"
    }
   ],
   "source": [
    "df_data.columns"
   ]
  },
  {
   "cell_type": "code",
   "execution_count": 12,
   "id": "f3616f25-4148-466a-a149-699327948d52",
   "metadata": {},
   "outputs": [],
   "source": [
    "clean_AccountData = df_data[[\"Country Name\",\"Country Code\",\"Series Name\",\"Series Code\",\"1995 [YR1995]\",\"2000 [YR2000]\",\"2005 [YR2005]\",\\\n",
    "                             \"2010 [YR2010]\",\"2014 [YR2014]\"]]"
   ]
  },
  {
   "cell_type": "code",
   "execution_count": 13,
   "id": "13e53562-c199-405d-9038-dd16564b23c8",
   "metadata": {},
   "outputs": [],
   "source": [
    "Account_Data = clean_AccountData.rename(columns={\"Series Name\":\"Indicator Name\", \"1995 [YR1995]\":\"1995\", \"2000 [YR2000]\":\"2000\", \\\n",
    "                                                 \"2005 [YR2005]\":\"2005\", \"2010 [YR2010]\":\"2010\", \"2014 [YR2014]\":\"2014\"})"
   ]
  },
  {
   "cell_type": "code",
   "execution_count": 14,
   "id": "7331eda0-d53b-4eab-a253-0dd2d316dc32",
   "metadata": {},
   "outputs": [
    {
     "data": {
      "text/html": [
       "<div>\n",
       "<style scoped>\n",
       "    .dataframe tbody tr th:only-of-type {\n",
       "        vertical-align: middle;\n",
       "    }\n",
       "\n",
       "    .dataframe tbody tr th {\n",
       "        vertical-align: top;\n",
       "    }\n",
       "\n",
       "    .dataframe thead th {\n",
       "        text-align: right;\n",
       "    }\n",
       "</style>\n",
       "<table border=\"1\" class=\"dataframe\">\n",
       "  <thead>\n",
       "    <tr style=\"text-align: right;\">\n",
       "      <th></th>\n",
       "      <th>Country Name</th>\n",
       "      <th>Country Code</th>\n",
       "      <th>Indicator Name</th>\n",
       "      <th>Series Code</th>\n",
       "      <th>1995</th>\n",
       "      <th>2000</th>\n",
       "      <th>2005</th>\n",
       "      <th>2010</th>\n",
       "      <th>2014</th>\n",
       "    </tr>\n",
       "  </thead>\n",
       "  <tbody>\n",
       "    <tr>\n",
       "      <th>0</th>\n",
       "      <td>Albania</td>\n",
       "      <td>ALB</td>\n",
       "      <td>Human capital (constant 2018 US$)</td>\n",
       "      <td>NW.HCA.TO</td>\n",
       "      <td>4.49E+10</td>\n",
       "      <td>4.36E+10</td>\n",
       "      <td>5.440000e+10</td>\n",
       "      <td>6.810000e+10</td>\n",
       "      <td>7.250000e+10</td>\n",
       "    </tr>\n",
       "    <tr>\n",
       "      <th>1</th>\n",
       "      <td>Albania</td>\n",
       "      <td>ALB</td>\n",
       "      <td>Human capital per capita (constant 2018 US$)</td>\n",
       "      <td>NW.HCA.PC</td>\n",
       "      <td>14072.79</td>\n",
       "      <td>14118.13</td>\n",
       "      <td>1.807230e+04</td>\n",
       "      <td>2.336286e+04</td>\n",
       "      <td>2.509002e+04</td>\n",
       "    </tr>\n",
       "    <tr>\n",
       "      <th>2</th>\n",
       "      <td>Albania</td>\n",
       "      <td>ALB</td>\n",
       "      <td>Human capital per capita, employed female (con...</td>\n",
       "      <td>NW.HCA.FEMP.PC</td>\n",
       "      <td>3468.858</td>\n",
       "      <td>3424.007</td>\n",
       "      <td>2.222115e+03</td>\n",
       "      <td>2.889150e+03</td>\n",
       "      <td>2.957420e+03</td>\n",
       "    </tr>\n",
       "    <tr>\n",
       "      <th>3</th>\n",
       "      <td>Albania</td>\n",
       "      <td>ALB</td>\n",
       "      <td>Human capital per capita, employed male (const...</td>\n",
       "      <td>NW.HCA.MEMP.PC</td>\n",
       "      <td>6507.931</td>\n",
       "      <td>6872.019</td>\n",
       "      <td>1.168935e+04</td>\n",
       "      <td>1.578992e+04</td>\n",
       "      <td>1.699138e+04</td>\n",
       "    </tr>\n",
       "    <tr>\n",
       "      <th>4</th>\n",
       "      <td>Albania</td>\n",
       "      <td>ALB</td>\n",
       "      <td>Human capital per capita, female (constant 201...</td>\n",
       "      <td>NW.HCA.FEMA.PC</td>\n",
       "      <td>4893.006</td>\n",
       "      <td>4695.071</td>\n",
       "      <td>2.886736e+03</td>\n",
       "      <td>3.613606e+03</td>\n",
       "      <td>3.719608e+03</td>\n",
       "    </tr>\n",
       "  </tbody>\n",
       "</table>\n",
       "</div>"
      ],
      "text/plain": [
       "  Country Name Country Code  \\\n",
       "0      Albania          ALB   \n",
       "1      Albania          ALB   \n",
       "2      Albania          ALB   \n",
       "3      Albania          ALB   \n",
       "4      Albania          ALB   \n",
       "\n",
       "                                      Indicator Name     Series Code  \\\n",
       "0                  Human capital (constant 2018 US$)       NW.HCA.TO   \n",
       "1       Human capital per capita (constant 2018 US$)       NW.HCA.PC   \n",
       "2  Human capital per capita, employed female (con...  NW.HCA.FEMP.PC   \n",
       "3  Human capital per capita, employed male (const...  NW.HCA.MEMP.PC   \n",
       "4  Human capital per capita, female (constant 201...  NW.HCA.FEMA.PC   \n",
       "\n",
       "       1995      2000          2005          2010          2014  \n",
       "0  4.49E+10  4.36E+10  5.440000e+10  6.810000e+10  7.250000e+10  \n",
       "1  14072.79  14118.13  1.807230e+04  2.336286e+04  2.509002e+04  \n",
       "2  3468.858  3424.007  2.222115e+03  2.889150e+03  2.957420e+03  \n",
       "3  6507.931  6872.019  1.168935e+04  1.578992e+04  1.699138e+04  \n",
       "4  4893.006  4695.071  2.886736e+03  3.613606e+03  3.719608e+03  "
      ]
     },
     "execution_count": 14,
     "metadata": {},
     "output_type": "execute_result"
    }
   ],
   "source": [
    "Account_Data.head()"
   ]
  },
  {
   "cell_type": "code",
   "execution_count": null,
   "id": "fcac8592-8e04-4d48-ab49-5dc2d3e2db8b",
   "metadata": {},
   "outputs": [],
   "source": []
  },
  {
   "cell_type": "code",
   "execution_count": 15,
   "id": "682aa047-e8e6-4150-991f-d3f93c9fcf35",
   "metadata": {},
   "outputs": [],
   "source": [
    "df_series = pd.read_csv(\"Wealth-AccountSeries.csv\")"
   ]
  },
  {
   "cell_type": "code",
   "execution_count": 16,
   "id": "5305ab21-238f-47cd-a9dd-588eb95d21bd",
   "metadata": {},
   "outputs": [
    {
     "data": {
      "text/plain": [
       "Index(['Code', 'Indicator Name', 'Long definition', 'Source', 'Topic',\n",
       "       'Unit of measure', 'Periodicity', 'Reference period',\n",
       "       'Statistical concept and methodology', 'Previous Indicator Code',\n",
       "       'Previous Indicator Name'],\n",
       "      dtype='object')"
      ]
     },
     "execution_count": 16,
     "metadata": {},
     "output_type": "execute_result"
    }
   ],
   "source": [
    "df_series.columns"
   ]
  },
  {
   "cell_type": "code",
   "execution_count": 17,
   "id": "bfd1a7cc-21c2-48fc-a6be-150fd03b5dae",
   "metadata": {},
   "outputs": [],
   "source": [
    "Account_Series = df_series[[\"Code\", \"Topic\", \"Indicator Name\", \"Long definition\", \"Source\"]]"
   ]
  },
  {
   "cell_type": "code",
   "execution_count": 18,
   "id": "47e4fd16-b00d-4190-ba5f-29dd7838e83b",
   "metadata": {},
   "outputs": [
    {
     "data": {
      "text/html": [
       "<div>\n",
       "<style scoped>\n",
       "    .dataframe tbody tr th:only-of-type {\n",
       "        vertical-align: middle;\n",
       "    }\n",
       "\n",
       "    .dataframe tbody tr th {\n",
       "        vertical-align: top;\n",
       "    }\n",
       "\n",
       "    .dataframe thead th {\n",
       "        text-align: right;\n",
       "    }\n",
       "</style>\n",
       "<table border=\"1\" class=\"dataframe\">\n",
       "  <thead>\n",
       "    <tr style=\"text-align: right;\">\n",
       "      <th></th>\n",
       "      <th>Code</th>\n",
       "      <th>Topic</th>\n",
       "      <th>Indicator Name</th>\n",
       "      <th>Long definition</th>\n",
       "      <th>Source</th>\n",
       "    </tr>\n",
       "  </thead>\n",
       "  <tbody>\n",
       "    <tr>\n",
       "      <th>0</th>\n",
       "      <td>NW.HCA.TO</td>\n",
       "      <td>Human capital</td>\n",
       "      <td>Human capital (constant 2018 US$)</td>\n",
       "      <td>Human capital is computed as the present value...</td>\n",
       "      <td>World Bank. 2021. The Changing Wealth of Natio...</td>\n",
       "    </tr>\n",
       "    <tr>\n",
       "      <th>1</th>\n",
       "      <td>NW.HCA.PC</td>\n",
       "      <td>Human capital</td>\n",
       "      <td>Human capital per capita (constant 2018 US$)</td>\n",
       "      <td>Human capital is computed as the present value...</td>\n",
       "      <td>World Bank. 2021. The Changing Wealth of Natio...</td>\n",
       "    </tr>\n",
       "    <tr>\n",
       "      <th>2</th>\n",
       "      <td>NW.HCA.FEMP.PC</td>\n",
       "      <td>Human capital</td>\n",
       "      <td>Human capital per capita, employed female (con...</td>\n",
       "      <td>Human capital is computed as the present value...</td>\n",
       "      <td>World Bank. 2021. The Changing Wealth of Natio...</td>\n",
       "    </tr>\n",
       "    <tr>\n",
       "      <th>3</th>\n",
       "      <td>NW.HCA.MEMP.PC</td>\n",
       "      <td>Human capital</td>\n",
       "      <td>Human capital per capita, employed male (const...</td>\n",
       "      <td>Human capital is computed as the present value...</td>\n",
       "      <td>World Bank. 2021. The Changing Wealth of Natio...</td>\n",
       "    </tr>\n",
       "    <tr>\n",
       "      <th>4</th>\n",
       "      <td>NW.HCA.FEMA.PC</td>\n",
       "      <td>Human capital</td>\n",
       "      <td>Human capital per capita, female (constant 201...</td>\n",
       "      <td>Human capital is computed as the present value...</td>\n",
       "      <td>World Bank. 2021. The Changing Wealth of Natio...</td>\n",
       "    </tr>\n",
       "  </tbody>\n",
       "</table>\n",
       "</div>"
      ],
      "text/plain": [
       "             Code          Topic  \\\n",
       "0       NW.HCA.TO  Human capital   \n",
       "1       NW.HCA.PC  Human capital   \n",
       "2  NW.HCA.FEMP.PC  Human capital   \n",
       "3  NW.HCA.MEMP.PC  Human capital   \n",
       "4  NW.HCA.FEMA.PC  Human capital   \n",
       "\n",
       "                                      Indicator Name  \\\n",
       "0                  Human capital (constant 2018 US$)   \n",
       "1       Human capital per capita (constant 2018 US$)   \n",
       "2  Human capital per capita, employed female (con...   \n",
       "3  Human capital per capita, employed male (const...   \n",
       "4  Human capital per capita, female (constant 201...   \n",
       "\n",
       "                                     Long definition  \\\n",
       "0  Human capital is computed as the present value...   \n",
       "1  Human capital is computed as the present value...   \n",
       "2  Human capital is computed as the present value...   \n",
       "3  Human capital is computed as the present value...   \n",
       "4  Human capital is computed as the present value...   \n",
       "\n",
       "                                              Source  \n",
       "0  World Bank. 2021. The Changing Wealth of Natio...  \n",
       "1  World Bank. 2021. The Changing Wealth of Natio...  \n",
       "2  World Bank. 2021. The Changing Wealth of Natio...  \n",
       "3  World Bank. 2021. The Changing Wealth of Natio...  \n",
       "4  World Bank. 2021. The Changing Wealth of Natio...  "
      ]
     },
     "execution_count": 18,
     "metadata": {},
     "output_type": "execute_result"
    }
   ],
   "source": [
    "Account_Series.head()"
   ]
  },
  {
   "cell_type": "code",
   "execution_count": null,
   "id": "73b9acd9-8f81-4d58-87f8-f9b376766c7c",
   "metadata": {},
   "outputs": [],
   "source": []
  },
  {
   "cell_type": "markdown",
   "id": "f1cff98c-c6e0-4c35-a055-84d8dc2322c7",
   "metadata": {},
   "source": [
    "### Now we create functions for our database design"
   ]
  },
  {
   "cell_type": "code",
   "execution_count": 19,
   "id": "d21e0aca-60aa-442d-b561-09f6d2d92980",
   "metadata": {},
   "outputs": [],
   "source": [
    "def create_database():\n",
    "    conn = psycopg2.connect(\"host=localhost dbname=postgres user=postgres password=root\")\n",
    "    conn.set_session(autocommit=True)\n",
    "    cur= conn.cursor()\n",
    "    # now we create database with name accounts\n",
    "    cur.execute(\"DROP DATABASE accounts\")\n",
    "    cur.execute(\"CREATE DATABASE accounts\")\n",
    "\n",
    "    # close the connection\n",
    "    conn.close()\n",
    "    # now we create new connection :\n",
    "    conn = psycopg2.connect(\"host=localhost dbname=accounts user=postgres password=root\")\n",
    "    cur = conn.cursor()\n",
    "\n",
    "    return cur, conn"
   ]
  },
  {
   "cell_type": "code",
   "execution_count": 20,
   "id": "3872ec8e-cad9-41ef-95de-f1b825720a7c",
   "metadata": {},
   "outputs": [],
   "source": [
    "def drop_tables(cur, conn):\n",
    "    for query in drop_table_queries :\n",
    "        cur.execute(query)\n",
    "        conn.commit"
   ]
  },
  {
   "cell_type": "code",
   "execution_count": 21,
   "id": "f2c905b1-e36e-4ef7-9bf4-3c221d68cac0",
   "metadata": {},
   "outputs": [],
   "source": [
    "def create_tables(cur, conn):\n",
    "    for query in create_table_queries :\n",
    "        cur.execute(query)\n",
    "        conn.commit"
   ]
  },
  {
   "cell_type": "code",
   "execution_count": 22,
   "id": "515f6eb6-69cd-4cc0-82aa-49676c34386b",
   "metadata": {},
   "outputs": [],
   "source": [
    "cur, conn = create_database()"
   ]
  },
  {
   "cell_type": "code",
   "execution_count": 23,
   "id": "0b4353a7-619a-4b23-ab2d-23b25f62b238",
   "metadata": {},
   "outputs": [],
   "source": [
    "# Now we creates table of our database :"
   ]
  },
  {
   "cell_type": "code",
   "execution_count": 24,
   "id": "01f6fdf2-0923-41af-a35e-019c3f27aeb9",
   "metadata": {},
   "outputs": [],
   "source": [
    "country_table_create = (\"\"\"CREATE TABLE IF NOT EXISTS accountcountry(country_code VARCHAR PRIMARY KEY, long_name VARCHAR, income_group VARCHAR, \\\n",
    "                            Region VARCHAR, currency_unit VARCHAR)\"\"\")\n",
    "cur.execute(country_table_create)\n",
    "conn.commit()"
   ]
  },
  {
   "cell_type": "code",
   "execution_count": 25,
   "id": "a1515fcf-8dfd-44f5-91d9-93405d17424c",
   "metadata": {},
   "outputs": [],
   "source": [
    "data_table_create = (\"\"\"CREATE TABLE IF NOT EXISTS accountdata(country_name VARCHAR, country_code VARCHAR, indicator_name VARCHAR, \\\n",
    "                                                            series_code VARCHAR, year_1995 VARCHAR, year_2000 VARCHAR, year_2005 VARCHAR, year_2010 VARCHAR, year_2014 VARCHAR)\"\"\")\n",
    "cur.execute(data_table_create)\n",
    "conn.commit()"
   ]
  },
  {
   "cell_type": "code",
   "execution_count": 26,
   "id": "a8e254f9-abd2-49c6-a7be-077eac15a972",
   "metadata": {},
   "outputs": [],
   "source": [
    "series_table_execute = (\"\"\"CREATE TABLE IF NOT EXISTS accountseries (code VARCHAR, topic VARCHAR, indicator_name VARCHAR, long_definition VARCHAR, \\\n",
    "                                                                        source VARCHAR) \"\"\")\n",
    "cur.execute(series_table_execute)\n",
    "conn.commit()"
   ]
  },
  {
   "cell_type": "code",
   "execution_count": 27,
   "id": "7fed3a12-0f04-4c39-bf8c-e3fdc549a7d2",
   "metadata": {},
   "outputs": [],
   "source": [
    "# now we wants to insert the data in tables"
   ]
  },
  {
   "cell_type": "code",
   "execution_count": 28,
   "id": "e9925ec8-56df-4ec8-8945-38e11118c14e",
   "metadata": {},
   "outputs": [],
   "source": [
    "country_insert = (\"\"\"INSERT INTO accountcountry (country_code, long_name, income_group, Region, currency_unit) VALUES(%s, %s, %s, %s, %s)\"\"\")"
   ]
  },
  {
   "cell_type": "code",
   "execution_count": 29,
   "id": "adbf0712-fc87-4252-9181-f6fa92364c84",
   "metadata": {},
   "outputs": [],
   "source": [
    "for i, row in Account_country.iterrows():\n",
    "    cur.execute(country_insert, list(row))\n",
    "\n",
    "conn.commit()"
   ]
  },
  {
   "cell_type": "code",
   "execution_count": 30,
   "id": "3f42b4eb-5c24-4011-a6dd-60ac41106a05",
   "metadata": {},
   "outputs": [],
   "source": [
    "data_insert = (\"\"\"INSERT INTO accountdata (country_name, country_code, indicator_name, series_code, year_1995, year_2000, year_2005, year_2010, year_2014) \\\n",
    "                                            VALUES(%s, %s, %s, %s, %s, %s, %s, %s, %s)\"\"\")"
   ]
  },
  {
   "cell_type": "code",
   "execution_count": 31,
   "id": "d8d8d9a6-fc39-4d80-9d38-d309c477c616",
   "metadata": {},
   "outputs": [],
   "source": [
    "for i, row in Account_Data.iterrows():\n",
    "    cur.execute(data_insert, list(row))\n",
    "conn.commit()"
   ]
  },
  {
   "cell_type": "code",
   "execution_count": 32,
   "id": "f42a8463-aec9-4bd3-9f1e-d281c51a6608",
   "metadata": {},
   "outputs": [],
   "source": [
    "series_insert = (\"\"\"INSERT INTO accountseries (code, topic, indicator_name, long_definition, source) VALUES(%s, %s, %s, %s, %s)\"\"\")"
   ]
  },
  {
   "cell_type": "code",
   "execution_count": 33,
   "id": "9dbd3749-f480-4757-b635-e0a0ffa4aa04",
   "metadata": {},
   "outputs": [],
   "source": [
    "for i, row in Account_Series.iterrows():\n",
    "    cur.execute(series_insert, list(row))\n",
    "\n",
    "conn.commit()"
   ]
  },
  {
   "cell_type": "code",
   "execution_count": null,
   "id": "9cb4c18f-9cf4-4979-987d-9086e304c7f2",
   "metadata": {},
   "outputs": [],
   "source": []
  },
  {
   "cell_type": "code",
   "execution_count": null,
   "id": "aa8fa913-befb-47b0-9540-87a33372fbf3",
   "metadata": {},
   "outputs": [],
   "source": []
  },
  {
   "cell_type": "code",
   "execution_count": null,
   "id": "7630bbfb-7799-48d7-badf-ede50da039ed",
   "metadata": {},
   "outputs": [],
   "source": []
  }
 ],
 "metadata": {
  "kernelspec": {
   "display_name": "Python 3 (ipykernel)",
   "language": "python",
   "name": "python3"
  },
  "language_info": {
   "codemirror_mode": {
    "name": "ipython",
    "version": 3
   },
   "file_extension": ".py",
   "mimetype": "text/x-python",
   "name": "python",
   "nbconvert_exporter": "python",
   "pygments_lexer": "ipython3",
   "version": "3.12.4"
  }
 },
 "nbformat": 4,
 "nbformat_minor": 5
}
